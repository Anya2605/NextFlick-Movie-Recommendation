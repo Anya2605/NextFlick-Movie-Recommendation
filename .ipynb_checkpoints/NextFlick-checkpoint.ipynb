{
 "cells": [
  {
   "cell_type": "markdown",
   "id": "6b450003-9324-44ca-b99d-f30b81bd170c",
   "metadata": {},
   "source": [
    "## 🎬 NextFlick: Movie Recommendation System"
   ]
  },
  {
   "cell_type": "markdown",
   "id": "88a0b11d-b69c-42bb-8cc9-ae1458be2a01",
   "metadata": {},
   "source": [
    "##### This project is a movie recommendation system built using three approaches:\n",
    "- Collaborative Filtering\n",
    "- Content-Based Filtering\n",
    "- Hybrid Model (combining both)\n",
    "\n",
    "It uses the MovieLens dataset and libraries like Surprise and Scikit-learn to suggest personalized movie picks based on user preferences and movie content.\n"
   ]
  },
  {
   "cell_type": "markdown",
   "id": "71c8549d-b2ee-4833-880f-c4d57995c0fd",
   "metadata": {},
   "source": [
    "### Collaborative Filtering "
   ]
  },
  {
   "cell_type": "code",
   "execution_count": 1,
   "id": "a1258584-27ab-44e9-bd86-f9986c76bcca",
   "metadata": {},
   "outputs": [],
   "source": [
    "# Step 1: Import necessary libraries\n",
    "import pandas as pd\n",
    "import matplotlib.pyplot as plt\n",
    "import seaborn as sns\n",
    "\n",
    "from surprise import Dataset, Reader, SVD, accuracy\n",
    "from surprise.model_selection import train_test_split\n",
    "\n",
    "import warnings\n",
    "warnings.filterwarnings(\"ignore\")"
   ]
  },
  {
   "cell_type": "code",
   "execution_count": 2,
   "id": "896e77fa-becd-4608-9218-7eed7b11fa96",
   "metadata": {},
   "outputs": [
    {
     "data": {
      "text/html": [
       "<div>\n",
       "<style scoped>\n",
       "    .dataframe tbody tr th:only-of-type {\n",
       "        vertical-align: middle;\n",
       "    }\n",
       "\n",
       "    .dataframe tbody tr th {\n",
       "        vertical-align: top;\n",
       "    }\n",
       "\n",
       "    .dataframe thead th {\n",
       "        text-align: right;\n",
       "    }\n",
       "</style>\n",
       "<table border=\"1\" class=\"dataframe\">\n",
       "  <thead>\n",
       "    <tr style=\"text-align: right;\">\n",
       "      <th></th>\n",
       "      <th>userId</th>\n",
       "      <th>movieId</th>\n",
       "      <th>rating</th>\n",
       "      <th>timestamp</th>\n",
       "    </tr>\n",
       "  </thead>\n",
       "  <tbody>\n",
       "    <tr>\n",
       "      <th>0</th>\n",
       "      <td>1</td>\n",
       "      <td>110</td>\n",
       "      <td>1.0</td>\n",
       "      <td>1425941529</td>\n",
       "    </tr>\n",
       "    <tr>\n",
       "      <th>1</th>\n",
       "      <td>1</td>\n",
       "      <td>147</td>\n",
       "      <td>4.5</td>\n",
       "      <td>1425942435</td>\n",
       "    </tr>\n",
       "    <tr>\n",
       "      <th>2</th>\n",
       "      <td>1</td>\n",
       "      <td>858</td>\n",
       "      <td>5.0</td>\n",
       "      <td>1425941523</td>\n",
       "    </tr>\n",
       "    <tr>\n",
       "      <th>3</th>\n",
       "      <td>1</td>\n",
       "      <td>1221</td>\n",
       "      <td>5.0</td>\n",
       "      <td>1425941546</td>\n",
       "    </tr>\n",
       "    <tr>\n",
       "      <th>4</th>\n",
       "      <td>1</td>\n",
       "      <td>1246</td>\n",
       "      <td>5.0</td>\n",
       "      <td>1425941556</td>\n",
       "    </tr>\n",
       "  </tbody>\n",
       "</table>\n",
       "</div>"
      ],
      "text/plain": [
       "   userId  movieId  rating   timestamp\n",
       "0       1      110     1.0  1425941529\n",
       "1       1      147     4.5  1425942435\n",
       "2       1      858     5.0  1425941523\n",
       "3       1     1221     5.0  1425941546\n",
       "4       1     1246     5.0  1425941556"
      ]
     },
     "execution_count": 2,
     "metadata": {},
     "output_type": "execute_result"
    }
   ],
   "source": [
    "# Step 2: Load the ratings dataset\n",
    "ratings = pd.read_csv(\"data/ratings.csv\")\n",
    "ratings.head()"
   ]
  },
  {
   "cell_type": "code",
   "execution_count": 3,
   "id": "80441f31-8ec0-4915-adc9-0afed1137ea2",
   "metadata": {},
   "outputs": [
    {
     "name": "stdout",
     "output_type": "stream",
     "text": [
      " Shape of the dataset (rows, columns): (26024289, 4)\n",
      "\n",
      " Column data types:\n",
      "userId         int64\n",
      "movieId        int64\n",
      "rating       float64\n",
      "timestamp      int64\n",
      "dtype: object\n",
      "\n",
      " Missing values in each column:\n",
      "userId       0\n",
      "movieId      0\n",
      "rating       0\n",
      "timestamp    0\n",
      "dtype: int64\n"
     ]
    }
   ],
   "source": [
    "# Step 3: Explore dataset shape and missing values\n",
    "print(\" Shape of the dataset (rows, columns):\", ratings.shape)\n",
    "print(\"\\n Column data types:\")\n",
    "print(ratings.dtypes)\n",
    "print(\"\\n Missing values in each column:\")\n",
    "print(ratings.isnull().sum())"
   ]
  },
  {
   "cell_type": "code",
   "execution_count": 4,
   "id": "7ffcab1d-4dd9-4826-8811-58ef80835078",
   "metadata": {},
   "outputs": [
    {
     "data": {
      "text/html": [
       "<div>\n",
       "<style scoped>\n",
       "    .dataframe tbody tr th:only-of-type {\n",
       "        vertical-align: middle;\n",
       "    }\n",
       "\n",
       "    .dataframe tbody tr th {\n",
       "        vertical-align: top;\n",
       "    }\n",
       "\n",
       "    .dataframe thead th {\n",
       "        text-align: right;\n",
       "    }\n",
       "</style>\n",
       "<table border=\"1\" class=\"dataframe\">\n",
       "  <thead>\n",
       "    <tr style=\"text-align: right;\">\n",
       "      <th></th>\n",
       "      <th>userId</th>\n",
       "      <th>movieId</th>\n",
       "      <th>rating</th>\n",
       "    </tr>\n",
       "  </thead>\n",
       "  <tbody>\n",
       "    <tr>\n",
       "      <th>0</th>\n",
       "      <td>1</td>\n",
       "      <td>110</td>\n",
       "      <td>1.0</td>\n",
       "    </tr>\n",
       "    <tr>\n",
       "      <th>1</th>\n",
       "      <td>1</td>\n",
       "      <td>147</td>\n",
       "      <td>4.5</td>\n",
       "    </tr>\n",
       "    <tr>\n",
       "      <th>2</th>\n",
       "      <td>1</td>\n",
       "      <td>858</td>\n",
       "      <td>5.0</td>\n",
       "    </tr>\n",
       "    <tr>\n",
       "      <th>3</th>\n",
       "      <td>1</td>\n",
       "      <td>1221</td>\n",
       "      <td>5.0</td>\n",
       "    </tr>\n",
       "    <tr>\n",
       "      <th>4</th>\n",
       "      <td>1</td>\n",
       "      <td>1246</td>\n",
       "      <td>5.0</td>\n",
       "    </tr>\n",
       "  </tbody>\n",
       "</table>\n",
       "</div>"
      ],
      "text/plain": [
       "   userId  movieId  rating\n",
       "0       1      110     1.0\n",
       "1       1      147     4.5\n",
       "2       1      858     5.0\n",
       "3       1     1221     5.0\n",
       "4       1     1246     5.0"
      ]
     },
     "execution_count": 4,
     "metadata": {},
     "output_type": "execute_result"
    }
   ],
   "source": [
    "# Step 4: Drop the timestamp column\n",
    "ratings.drop(\"timestamp\", axis=1, inplace=True)\n",
    "ratings.head()"
   ]
  },
  {
   "cell_type": "code",
   "execution_count": 5,
   "id": "afc3cd64-c040-44e7-85d3-35eaeab978b0",
   "metadata": {},
   "outputs": [
    {
     "data": {
      "image/png": "[encoded data removed]",
      "text/plain": [
       "<Figure size 600x300 with 1 Axes>"
      ]
     },
     "metadata": {},
     "output_type": "display_data"
    }
   ],
   "source": [
    "# Step 5: Visualize distribution of ratings\n",
    "plt.figure(figsize=(6, 3))\n",
    "sns.countplot(data=ratings, x=\"rating\", palette=\"viridis\")\n",
    "plt.title(\"Distribution of Ratings\")\n",
    "plt.xlabel(\"Rating\")\n",
    "plt.ylabel(\"Count (in lakhs)\")\n",
    "plt.grid(axis='y', linestyle='--', alpha=0.6)\n",
    "plt.tight_layout()\n",
    "plt.show()"
   ]
  },
  {
   "cell_type": "code",
   "execution_count": 6,
   "id": "33f01f70-9378-4088-8c60-4da885037ea4",
   "metadata": {},
   "outputs": [
    {
     "data": {
      "image/png": "[encoded data removed]",
      "text/plain": [
       "<Figure size 600x300 with 1 Axes>"
      ]
     },
     "metadata": {},
     "output_type": "display_data"
    }
   ],
   "source": [
    "# Step 6: Ratings per User (Log Scale)\n",
    "ratings_per_user = ratings.groupby(\"userId\").size()\n",
    "\n",
    "plt.figure(figsize=(6, 3))\n",
    "sns.histplot(ratings_per_user, bins=50, kde=False, color=\"skyblue\", log=True)\n",
    "plt.title(\"Ratings per User (Log Scale)\")\n",
    "plt.xlabel(\"Number of Ratings by a User\")\n",
    "plt.ylabel(\"Number of Users (log scale)\")\n",
    "plt.grid(axis='y', linestyle='--', alpha=0.6)\n",
    "plt.tight_layout()\n",
    "plt.show()"
   ]
  },
  {
   "cell_type": "code",
   "execution_count": 7,
   "id": "0c11fe42-53e1-42a0-b1dd-bb65236436d0",
   "metadata": {},
   "outputs": [
    {
     "data": {
      "image/png": "[encoded data removed]",
      "text/plain": [
       "<Figure size 600x300 with 1 Axes>"
      ]
     },
     "metadata": {},
     "output_type": "display_data"
    }
   ],
   "source": [
    "# Step 7: Ratings per Movie (Log Scale)\n",
    "ratings_per_movie = ratings.groupby(\"movieId\").size()\n",
    "\n",
    "plt.figure(figsize=(6, 3))\n",
    "sns.histplot(ratings_per_movie, bins=50, kde=False, color=\"orange\", log=True)\n",
    "plt.title(\"Ratings per Movie (Log Scale)\")\n",
    "plt.xlabel(\"Number of Ratings Received by a Movie\")\n",
    "plt.ylabel(\"Number of Movies (log scale)\")\n",
    "plt.grid(axis='y', linestyle='--', alpha=0.6)\n",
    "plt.tight_layout()\n",
    "plt.show()"
   ]
  },
  {
   "cell_type": "code",
   "execution_count": 8,
   "id": "2f0fe139-b6ab-4351-af79-09a3818692fa",
   "metadata": {},
   "outputs": [],
   "source": [
    "# Step 8: Convert data to Surprise format\n",
    "reader = Reader(rating_scale=(0.5, 5.0))\n",
    "data = Dataset.load_from_df(ratings[[\"userId\", \"movieId\", \"rating\"]], reader)"
   ]
  },
  {
   "cell_type": "code",
   "execution_count": 9,
   "id": "f7f62b55-4acc-4620-92a8-c5ae5d042268",
   "metadata": {},
   "outputs": [
    {
     "name": "stdout",
     "output_type": "stream",
     "text": [
      "Number of training entries: 20819431\n",
      "Number of testing entries: 5204858\n"
     ]
    }
   ],
   "source": [
    "# Step 9: Split data into training and validation sets\n",
    "trainset, testset = train_test_split(data, test_size=0.2)\n",
    "\n",
    "print(\"Number of training entries:\", trainset.n_ratings)\n",
    "print(\"Number of testing entries:\", len(testset))"
   ]
  },
  {
   "cell_type": "code",
   "execution_count": 10,
   "id": "2c8273ce-2f60-4d79-a941-2e2006891b56",
   "metadata": {},
   "outputs": [
    {
     "data": {
      "text/plain": [
       "<surprise.prediction_algorithms.matrix_factorization.SVD at 0x21a40cbb910>"
      ]
     },
     "execution_count": 10,
     "metadata": {},
     "output_type": "execute_result"
    }
   ],
   "source": [
    "# Step 10: Train the SVD model\n",
    "svd_model = SVD()\n",
    "svd_model.fit(trainset)"
   ]
  },
  {
   "cell_type": "code",
   "execution_count": 11,
   "id": "71423beb-fb3e-400b-9b1b-88b86c75e716",
   "metadata": {},
   "outputs": [
    {
     "name": "stdout",
     "output_type": "stream",
     "text": [
      "RMSE: 0.7964\n",
      "MAE:  0.6021\n"
     ]
    }
   ],
   "source": [
    "# Step 11: Evaluate the model\n",
    "predictions = svd_model.test(testset)\n",
    "rmse = accuracy.rmse(predictions)\n",
    "mae = accuracy.mae(predictions)"
   ]
  },
  {
   "cell_type": "code",
   "execution_count": 12,
   "id": "efb52dd6-c311-493b-811d-cce2d06c3697",
   "metadata": {},
   "outputs": [
    {
     "name": "stdout",
     "output_type": "stream",
     "text": [
      " Total unique users: 270896\n",
      " Total unique movies: 45115\n"
     ]
    }
   ],
   "source": [
    "# Step 12: Get user and movie ID lists\n",
    "all_user_ids = ratings['userId'].unique()\n",
    "all_movie_ids = ratings['movieId'].unique()\n",
    "\n",
    "print(f\" Total unique users: {len(all_user_ids)}\")\n",
    "print(f\" Total unique movies: {len(all_movie_ids)}\")"
   ]
  },
  {
   "cell_type": "code",
   "execution_count": 13,
   "id": "2c882949-ae42-4be5-a2e5-e32ebbdd2bd8",
   "metadata": {},
   "outputs": [
    {
     "name": "stdout",
     "output_type": "stream",
     "text": [
      "\n",
      " Top 10 movie recommendations for user 1:\n",
      "\n",
      "1. Movie ID: 2858 | Predicted Rating: 5.00\n",
      "2. Movie ID: 1211 | Predicted Rating: 4.90\n",
      "3. Movie ID: 109374 | Predicted Rating: 4.88\n",
      "4. Movie ID: 137904 | Predicted Rating: 4.88\n",
      "5. Movie ID: 1046 | Predicted Rating: 4.88\n",
      "6. Movie ID: 899 | Predicted Rating: 4.84\n",
      "7. Movie ID: 2908 | Predicted Rating: 4.84\n",
      "8. Movie ID: 926 | Predicted Rating: 4.83\n",
      "9. Movie ID: 82 | Predicted Rating: 4.83\n",
      "10. Movie ID: 26674 | Predicted Rating: 4.82\n"
     ]
    }
   ],
   "source": [
    "# Step 13: Generate top 10 recommendations for user 1\n",
    "user_id = 1\n",
    "movies_rated_by_user = ratings[ratings['userId'] == user_id]['movieId'].tolist()\n",
    "unseen_movies = [movie for movie in all_movie_ids if movie not in movies_rated_by_user]\n",
    "predictions = [svd_model.predict(user_id, movie_id) for movie_id in unseen_movies]\n",
    "predictions.sort(key=lambda x: x.est, reverse=True)\n",
    "top_10_recommendations = predictions[:10]\n",
    "\n",
    "print(\"\\n Top 10 movie recommendations for user 1:\\n\")\n",
    "for i, pred in enumerate(top_10_recommendations, 1):\n",
    "    print(f\"{i}. Movie ID: {pred.iid} | Predicted Rating: {pred.est:.2f}\")"
   ]
  },
  {
   "cell_type": "code",
   "execution_count": 14,
   "id": "f295b415-a12f-42cf-8257-bac68b738a27",
   "metadata": {},
   "outputs": [
    {
     "data": {
      "text/html": [
       "<div>\n",
       "<style scoped>\n",
       "    .dataframe tbody tr th:only-of-type {\n",
       "        vertical-align: middle;\n",
       "    }\n",
       "\n",
       "    .dataframe tbody tr th {\n",
       "        vertical-align: top;\n",
       "    }\n",
       "\n",
       "    .dataframe thead th {\n",
       "        text-align: right;\n",
       "    }\n",
       "</style>\n",
       "<table border=\"1\" class=\"dataframe\">\n",
       "  <thead>\n",
       "    <tr style=\"text-align: right;\">\n",
       "      <th></th>\n",
       "      <th>adult</th>\n",
       "      <th>belongs_to_collection</th>\n",
       "      <th>budget</th>\n",
       "      <th>genres</th>\n",
       "      <th>homepage</th>\n",
       "      <th>id</th>\n",
       "      <th>imdb_id</th>\n",
       "      <th>original_language</th>\n",
       "      <th>original_title</th>\n",
       "      <th>overview</th>\n",
       "      <th>...</th>\n",
       "      <th>release_date</th>\n",
       "      <th>revenue</th>\n",
       "      <th>runtime</th>\n",
       "      <th>spoken_languages</th>\n",
       "      <th>status</th>\n",
       "      <th>tagline</th>\n",
       "      <th>title</th>\n",
       "      <th>video</th>\n",
       "      <th>vote_average</th>\n",
       "      <th>vote_count</th>\n",
       "    </tr>\n",
       "  </thead>\n",
       "  <tbody>\n",
       "    <tr>\n",
       "      <th>0</th>\n",
       "      <td>False</td>\n",
       "      <td>{'id': 10194, 'name': 'Toy Story Collection', ...</td>\n",
       "      <td>30000000</td>\n",
       "      <td>[{'id': 16, 'name': 'Animation'}, {'id': 35, '...</td>\n",
       "      <td>http://toystory.disney.com/toy-story</td>\n",
       "      <td>862</td>\n",
       "      <td>tt0114709</td>\n",
       "      <td>en</td>\n",
       "      <td>Toy Story</td>\n",
       "      <td>Led by Woody, Andy's toys live happily in his ...</td>\n",
       "      <td>...</td>\n",
       "      <td>1995-10-30</td>\n",
       "      <td>373554033.0</td>\n",
       "      <td>81.0</td>\n",
       "      <td>[{'iso_639_1': 'en', 'name': 'English'}]</td>\n",
       "      <td>Released</td>\n",
       "      <td>NaN</td>\n",
       "      <td>Toy Story</td>\n",
       "      <td>False</td>\n",
       "      <td>7.7</td>\n",
       "      <td>5415.0</td>\n",
       "    </tr>\n",
       "    <tr>\n",
       "      <th>1</th>\n",
       "      <td>False</td>\n",
       "      <td>NaN</td>\n",
       "      <td>65000000</td>\n",
       "      <td>[{'id': 12, 'name': 'Adventure'}, {'id': 14, '...</td>\n",
       "      <td>NaN</td>\n",
       "      <td>8844</td>\n",
       "      <td>tt0113497</td>\n",
       "      <td>en</td>\n",
       "      <td>Jumanji</td>\n",
       "      <td>When siblings Judy and Peter discover an encha...</td>\n",
       "      <td>...</td>\n",
       "      <td>1995-12-15</td>\n",
       "      <td>262797249.0</td>\n",
       "      <td>104.0</td>\n",
       "      <td>[{'iso_639_1': 'en', 'name': 'English'}, {'iso...</td>\n",
       "      <td>Released</td>\n",
       "      <td>Roll the dice and unleash the excitement!</td>\n",
       "      <td>Jumanji</td>\n",
       "      <td>False</td>\n",
       "      <td>6.9</td>\n",
       "      <td>2413.0</td>\n",
       "    </tr>\n",
       "    <tr>\n",
       "      <th>2</th>\n",
       "      <td>False</td>\n",
       "      <td>{'id': 119050, 'name': 'Grumpy Old Men Collect...</td>\n",
       "      <td>0</td>\n",
       "      <td>[{'id': 10749, 'name': 'Romance'}, {'id': 35, ...</td>\n",
       "      <td>NaN</td>\n",
       "      <td>15602</td>\n",
       "      <td>tt0113228</td>\n",
       "      <td>en</td>\n",
       "      <td>Grumpier Old Men</td>\n",
       "      <td>A family wedding reignites the ancient feud be...</td>\n",
       "      <td>...</td>\n",
       "      <td>1995-12-22</td>\n",
       "      <td>0.0</td>\n",
       "      <td>101.0</td>\n",
       "      <td>[{'iso_639_1': 'en', 'name': 'English'}]</td>\n",
       "      <td>Released</td>\n",
       "      <td>Still Yelling. Still Fighting. Still Ready for...</td>\n",
       "      <td>Grumpier Old Men</td>\n",
       "      <td>False</td>\n",
       "      <td>6.5</td>\n",
       "      <td>92.0</td>\n",
       "    </tr>\n",
       "    <tr>\n",
       "      <th>3</th>\n",
       "      <td>False</td>\n",
       "      <td>NaN</td>\n",
       "      <td>16000000</td>\n",
       "      <td>[{'id': 35, 'name': 'Comedy'}, {'id': 18, 'nam...</td>\n",
       "      <td>NaN</td>\n",
       "      <td>31357</td>\n",
       "      <td>tt0114885</td>\n",
       "      <td>en</td>\n",
       "      <td>Waiting to Exhale</td>\n",
       "      <td>Cheated on, mistreated and stepped on, the wom...</td>\n",
       "      <td>...</td>\n",
       "      <td>1995-12-22</td>\n",
       "      <td>81452156.0</td>\n",
       "      <td>127.0</td>\n",
       "      <td>[{'iso_639_1': 'en', 'name': 'English'}]</td>\n",
       "      <td>Released</td>\n",
       "      <td>Friends are the people who let you be yourself...</td>\n",
       "      <td>Waiting to Exhale</td>\n",
       "      <td>False</td>\n",
       "      <td>6.1</td>\n",
       "      <td>34.0</td>\n",
       "    </tr>\n",
       "    <tr>\n",
       "      <th>4</th>\n",
       "      <td>False</td>\n",
       "      <td>{'id': 96871, 'name': 'Father of the Bride Col...</td>\n",
       "      <td>0</td>\n",
       "      <td>[{'id': 35, 'name': 'Comedy'}]</td>\n",
       "      <td>NaN</td>\n",
       "      <td>11862</td>\n",
       "      <td>tt0113041</td>\n",
       "      <td>en</td>\n",
       "      <td>Father of the Bride Part II</td>\n",
       "      <td>Just when George Banks has recovered from his ...</td>\n",
       "      <td>...</td>\n",
       "      <td>1995-02-10</td>\n",
       "      <td>76578911.0</td>\n",
       "      <td>106.0</td>\n",
       "      <td>[{'iso_639_1': 'en', 'name': 'English'}]</td>\n",
       "      <td>Released</td>\n",
       "      <td>Just When His World Is Back To Normal... He's ...</td>\n",
       "      <td>Father of the Bride Part II</td>\n",
       "      <td>False</td>\n",
       "      <td>5.7</td>\n",
       "      <td>173.0</td>\n",
       "    </tr>\n",
       "  </tbody>\n",
       "</table>\n",
       "<p>5 rows × 24 columns</p>\n",
       "</div>"
      ],
      "text/plain": [
       "   adult                              belongs_to_collection    budget  \\\n",
       "0  False  {'id': 10194, 'name': 'Toy Story Collection', ...  30000000   \n",
       "1  False                                                NaN  65000000   \n",
       "2  False  {'id': 119050, 'name': 'Grumpy Old Men Collect...         0   \n",
       "3  False                                                NaN  16000000   \n",
       "4  False  {'id': 96871, 'name': 'Father of the Bride Col...         0   \n",
       "\n",
       "                                              genres  \\\n",
       "0  [{'id': 16, 'name': 'Animation'}, {'id': 35, '...   \n",
       "1  [{'id': 12, 'name': 'Adventure'}, {'id': 14, '...   \n",
       "2  [{'id': 10749, 'name': 'Romance'}, {'id': 35, ...   \n",
       "3  [{'id': 35, 'name': 'Comedy'}, {'id': 18, 'nam...   \n",
       "4                     [{'id': 35, 'name': 'Comedy'}]   \n",
       "\n",
       "                               homepage     id    imdb_id original_language  \\\n",
       "0  http://toystory.disney.com/toy-story    862  tt0114709                en   \n",
       "1                                   NaN   8844  tt0113497                en   \n",
       "2                                   NaN  15602  tt0113228                en   \n",
       "3                                   NaN  31357  tt0114885                en   \n",
       "4                                   NaN  11862  tt0113041                en   \n",
       "\n",
       "                original_title  \\\n",
       "0                    Toy Story   \n",
       "1                      Jumanji   \n",
       "2             Grumpier Old Men   \n",
       "3            Waiting to Exhale   \n",
       "4  Father of the Bride Part II   \n",
       "\n",
       "                                            overview  ... release_date  \\\n",
       "0  Led by Woody, Andy's toys live happily in his ...  ...   1995-10-30   \n",
       "1  When siblings Judy and Peter discover an encha...  ...   1995-12-15   \n",
       "2  A family wedding reignites the ancient feud be...  ...   1995-12-22   \n",
       "3  Cheated on, mistreated and stepped on, the wom...  ...   1995-12-22   \n",
       "4  Just when George Banks has recovered from his ...  ...   1995-02-10   \n",
       "\n",
       "       revenue runtime                                   spoken_languages  \\\n",
       "0  373554033.0    81.0           [{'iso_639_1': 'en', 'name': 'English'}]   \n",
       "1  262797249.0   104.0  [{'iso_639_1': 'en', 'name': 'English'}, {'iso...   \n",
       "2          0.0   101.0           [{'iso_639_1': 'en', 'name': 'English'}]   \n",
       "3   81452156.0   127.0           [{'iso_639_1': 'en', 'name': 'English'}]   \n",
       "4   76578911.0   106.0           [{'iso_639_1': 'en', 'name': 'English'}]   \n",
       "\n",
       "     status                                            tagline  \\\n",
       "0  Released                                                NaN   \n",
       "1  Released          Roll the dice and unleash the excitement!   \n",
       "2  Released  Still Yelling. Still Fighting. Still Ready for...   \n",
       "3  Released  Friends are the people who let you be yourself...   \n",
       "4  Released  Just When His World Is Back To Normal... He's ...   \n",
       "\n",
       "                         title  video vote_average vote_count  \n",
       "0                    Toy Story  False          7.7     5415.0  \n",
       "1                      Jumanji  False          6.9     2413.0  \n",
       "2             Grumpier Old Men  False          6.5       92.0  \n",
       "3            Waiting to Exhale  False          6.1       34.0  \n",
       "4  Father of the Bride Part II  False          5.7      173.0  \n",
       "\n",
       "[5 rows x 24 columns]"
      ]
     },
     "execution_count": 14,
     "metadata": {},
     "output_type": "execute_result"
    }
   ],
   "source": [
    "# Step 14: Load metadata and links\n",
    "metadata = pd.read_csv(\"data/movies_metadata.csv\", low_memory=False)\n",
    "links = pd.read_csv(\"data/links.csv\")\n",
    "metadata.head()"
   ]
  },
  {
   "cell_type": "code",
   "execution_count": 15,
   "id": "b12816dd-f4da-410b-a519-f7fd2b20ad2e",
   "metadata": {},
   "outputs": [
    {
     "name": "stdout",
     "output_type": "stream",
     "text": [
      "\n",
      " Cleaned metadata. Preview:\n",
      "      id                        title\n",
      "0    862                    Toy Story\n",
      "1   8844                      Jumanji\n",
      "2  15602             Grumpier Old Men\n",
      "3  31357            Waiting to Exhale\n",
      "4  11862  Father of the Bride Part II\n"
     ]
    }
   ],
   "source": [
    "# Step 15: Clean metadata to match movieId format\n",
    "metadata['id'] = pd.to_numeric(metadata['id'], errors='coerce')\n",
    "metadata_clean = metadata.dropna(subset=['id'])\n",
    "metadata_clean['id'] = metadata_clean['id'].astype(int)\n",
    "print(\"\\n Cleaned metadata. Preview:\")\n",
    "print(metadata_clean[['id', 'title']].head())\n"
   ]
  },
  {
   "cell_type": "code",
   "execution_count": 16,
   "id": "cc65b183-05bb-414a-8f7b-96fed3b30cad",
   "metadata": {},
   "outputs": [
    {
     "name": "stdout",
     "output_type": "stream",
     "text": [
      "\n",
      " Final recommendations ready: \n",
      "\n",
      "   movieId                     title  predicted_rating\n",
      "0     2858           American Beauty              5.00\n",
      "1     1211           Wings of Desire              4.90\n",
      "2   109374  The Grand Budapest Hotel              4.88\n",
      "3   137904               I, Claudius              4.88\n",
      "4     1046           Beautiful Thing              4.88\n",
      "5      899       Singin' in the Rain              4.84\n",
      "6     2908            Boys Don't Cry              4.84\n",
      "7      926             All About Eve              4.83\n",
      "8       82            Antonia's Line              4.83\n",
      "9    26674             Prime Suspect              4.82\n"
     ]
    }
   ],
   "source": [
    "# Step 16: Merge recommendations with metadata\n",
    "# Convert predictions to DataFrame\n",
    "top_recs_df = pd.DataFrame([{\n",
    "    \"movieId\": int(pred.iid),\n",
    "    \"predicted_rating\": round(pred.est, 2)\n",
    "} for pred in top_10_recommendations])\n",
    "\n",
    "# Merge to get tmdbId\n",
    "top_recs_with_tmdb = pd.merge(top_recs_df, links[['movieId', 'tmdbId']], on='movieId', how='left')\n",
    "top_recs_with_tmdb.dropna(subset=['tmdbId'], inplace=True)\n",
    "top_recs_with_tmdb['tmdbId'] = top_recs_with_tmdb['tmdbId'].astype(int)\n",
    "\n",
    "# Merge to get movie titles\n",
    "final_recommendations = pd.merge(\n",
    "    top_recs_with_tmdb,\n",
    "    metadata_clean[['id', 'title']],\n",
    "    left_on='tmdbId',\n",
    "    right_on='id',\n",
    "    how='left'\n",
    ")\n",
    "final_recommendations.drop(columns=['id'], inplace=True)\n",
    "print(\"\\n Final recommendations ready: \\n\")\n",
    "print(final_recommendations[['movieId', 'title', 'predicted_rating']])"
   ]
  },
  {
   "cell_type": "code",
   "execution_count": 17,
   "id": "58fc3539-e922-4a5a-9873-d31cd89e5f3c",
   "metadata": {},
   "outputs": [
    {
     "data": {
      "image/png": "[encoded data removed]",
      "text/plain": [
       "<Figure size 800x500 with 1 Axes>"
      ]
     },
     "metadata": {},
     "output_type": "display_data"
    }
   ],
   "source": [
    "# Step 17: Plot Top 10 Recommendations\n",
    "plt.figure(figsize=(8, 5))\n",
    "sns.barplot(\n",
    "    x=\"predicted_rating\",\n",
    "    y=\"title\",\n",
    "    data=final_recommendations.sort_values(by=\"predicted_rating\", ascending=True),\n",
    "    palette=\"viridis\"\n",
    ")\n",
    "plt.title(\" Top 10 Movie Recommendations for User 1\")\n",
    "plt.xlabel(\"Predicted Rating\")\n",
    "plt.ylabel(\"Movie Title\")\n",
    "plt.xlim(4.8, 5.05)\n",
    "plt.grid(axis='x', linestyle='--', alpha=0.6)\n",
    "plt.tight_layout()\n",
    "plt.show()"
   ]
  },
  {
   "cell_type": "markdown",
   "id": "a3ff51fd-7275-486a-90bd-d5eb4321b991",
   "metadata": {},
   "source": [
    "#  Content-Based Movie Recommendation System"
   ]
  },
  {
   "cell_type": "code",
   "execution_count": 18,
   "id": "75cd13cb-d8c6-4d8f-bb97-8793cd829fbd",
   "metadata": {},
   "outputs": [],
   "source": [
    "# Step 1: Import necessary libraries\n",
    "import pandas as pd\n",
    "from sklearn.feature_extraction.text import TfidfVectorizer\n",
    "from sklearn.metrics.pairwise import linear_kernel"
   ]
  },
  {
   "cell_type": "code",
   "execution_count": 19,
   "id": "ae85ff0d-23d7-47cb-895b-2c7de8f67d74",
   "metadata": {},
   "outputs": [],
   "source": [
    "# Step 2: Filter metadata to include only popular movies (>=20 ratings)\n",
    "popular_movies = ratings['movieId'].value_counts()\n",
    "popular_movie_ids = popular_movies[popular_movies >= 20].index\n",
    "metadata_content = metadata_clean[['id', 'title', 'overview']].copy()\n",
    "metadata_content = metadata_content[metadata_content['id'].isin(popular_movie_ids)]\n",
    "metadata_content.reset_index(drop=True, inplace=True)"
   ]
  },
  {
   "cell_type": "code",
   "execution_count": 20,
   "id": "3397f9f5-bf58-484d-bc00-3631a35e0edf",
   "metadata": {},
   "outputs": [],
   "source": [
    "# Step 3: Fill missing overviews with empty strings\n",
    "metadata_content['overview'] = metadata_content['overview'].fillna(\"\")\n"
   ]
  },
  {
   "cell_type": "code",
   "execution_count": 21,
   "id": "10be7761-c3c8-45fc-8471-1d8ea0c4cc07",
   "metadata": {},
   "outputs": [],
   "source": [
    "# Step 4: Convert overviews to TF-IDF vectors\n",
    "tfidf = TfidfVectorizer(stop_words='english')\n",
    "tfidf_matrix = tfidf.fit_transform(metadata_content['overview'])"
   ]
  },
  {
   "cell_type": "code",
   "execution_count": 22,
   "id": "8f6cdb22-cb73-4719-bcc6-261cf0c7df39",
   "metadata": {},
   "outputs": [],
   "source": [
    "# Step 5: Compute cosine similarity matrix\n",
    "cosine_sim = linear_kernel(tfidf_matrix, tfidf_matrix)"
   ]
  },
  {
   "cell_type": "code",
   "execution_count": 23,
   "id": "7c953f9c-21db-47ba-8366-677a9e1b9be9",
   "metadata": {},
   "outputs": [],
   "source": [
    "# Step 6: Create title-to-index mapping\n",
    "indices = pd.Series(metadata_content.index, index=metadata_content['title']).drop_duplicates()"
   ]
  },
  {
   "cell_type": "code",
   "execution_count": 24,
   "id": "83b77950-b2c7-4ae8-a0a9-f881a0b68dd1",
   "metadata": {},
   "outputs": [],
   "source": [
    "# Step 7: Recommendation function based on content similarity\n",
    "def get_recommendations(title, cosine_sim=cosine_sim, top_n=10):\n",
    "    if title not in indices:\n",
    "        return f\"'{title}' not found in dataset.\"\n",
    "\n",
    "    idx = indices[title]\n",
    "    sim_scores = list(enumerate(cosine_sim[idx]))\n",
    "    sim_scores = sorted(sim_scores, key=lambda x: x[1], reverse=True)\n",
    "    sim_scores = sim_scores[1:top_n+1]  # Skip the movie itself\n",
    "    movie_indices = [i[0] for i in sim_scores]\n",
    "\n",
    "    return metadata_content[['title']].iloc[movie_indices]"
   ]
  },
  {
   "cell_type": "code",
   "execution_count": 25,
   "id": "59d9b13a-f7c4-4841-abe4-44639dd88215",
   "metadata": {},
   "outputs": [
    {
     "data": {
      "text/html": [
       "<div>\n",
       "<style scoped>\n",
       "    .dataframe tbody tr th:only-of-type {\n",
       "        vertical-align: middle;\n",
       "    }\n",
       "\n",
       "    .dataframe tbody tr th {\n",
       "        vertical-align: top;\n",
       "    }\n",
       "\n",
       "    .dataframe thead th {\n",
       "        text-align: right;\n",
       "    }\n",
       "</style>\n",
       "<table border=\"1\" class=\"dataframe\">\n",
       "  <thead>\n",
       "    <tr style=\"text-align: right;\">\n",
       "      <th></th>\n",
       "      <th>title</th>\n",
       "    </tr>\n",
       "  </thead>\n",
       "  <tbody>\n",
       "    <tr>\n",
       "      <th>2164</th>\n",
       "      <td>The 40 Year Old Virgin</td>\n",
       "    </tr>\n",
       "    <tr>\n",
       "      <th>4438</th>\n",
       "      <td>Wabash Avenue</td>\n",
       "    </tr>\n",
       "    <tr>\n",
       "      <th>791</th>\n",
       "      <td>Man on the Moon</td>\n",
       "    </tr>\n",
       "    <tr>\n",
       "      <th>121</th>\n",
       "      <td>Malice</td>\n",
       "    </tr>\n",
       "    <tr>\n",
       "      <th>575</th>\n",
       "      <td>Indecent Proposal</td>\n",
       "    </tr>\n",
       "    <tr>\n",
       "      <th>2229</th>\n",
       "      <td>Match Point</td>\n",
       "    </tr>\n",
       "    <tr>\n",
       "      <th>80</th>\n",
       "      <td>The Shawshank Redemption</td>\n",
       "    </tr>\n",
       "    <tr>\n",
       "      <th>3521</th>\n",
       "      <td>Dollman vs. Demonic Toys</td>\n",
       "    </tr>\n",
       "    <tr>\n",
       "      <th>3801</th>\n",
       "      <td>Halloweentown</td>\n",
       "    </tr>\n",
       "    <tr>\n",
       "      <th>1335</th>\n",
       "      <td>Maid in Manhattan</td>\n",
       "    </tr>\n",
       "  </tbody>\n",
       "</table>\n",
       "</div>"
      ],
      "text/plain": [
       "                         title\n",
       "2164    The 40 Year Old Virgin\n",
       "4438             Wabash Avenue\n",
       "791            Man on the Moon\n",
       "121                     Malice\n",
       "575          Indecent Proposal\n",
       "2229               Match Point\n",
       "80    The Shawshank Redemption\n",
       "3521  Dollman vs. Demonic Toys\n",
       "3801             Halloweentown\n",
       "1335         Maid in Manhattan"
      ]
     },
     "execution_count": 25,
     "metadata": {},
     "output_type": "execute_result"
    }
   ],
   "source": [
    "# Step 8: Example - Get top 10 similar movies to \"Toy Story\"\n",
    "get_recommendations(\"Toy Story\")"
   ]
  },
  {
   "cell_type": "markdown",
   "id": "ba34576f-a56d-47d0-90c8-de3f68e5bec3",
   "metadata": {},
   "source": [
    "# Hybrid Recommendation (Content + Collaborative)"
   ]
  },
  {
   "cell_type": "code",
   "execution_count": 26,
   "id": "b6effc6f-b03a-445c-ae28-5b1a16947ebb",
   "metadata": {},
   "outputs": [],
   "source": [
    "# Compute cosine similarity from TF-IDF matrix\n",
    "cosine_sim = linear_kernel(tfidf_matrix, tfidf_matrix)\n",
    "metadata_content = metadata_content.reset_index()\n",
    "\n",
    "# Function to get similar content-based scores\n",
    "def get_content_scores(title, top_n=25):\n",
    "    idx = metadata_content[metadata_content['title'] == title].index[0]\n",
    "    sim_scores = list(enumerate(cosine_sim[idx]))\n",
    "    sim_scores = sorted(sim_scores, key=lambda x: x[1], reverse=True)[1:top_n+1]\n",
    "    movie_indices = [i[0] for i in sim_scores]\n",
    "    return metadata_content.iloc[movie_indices][['id', 'title']], [i[1] for i in sim_scores]"
   ]
  },
  {
   "cell_type": "code",
   "execution_count": 27,
   "id": "066d0032-3c2d-4e24-bbea-35679786c768",
   "metadata": {},
   "outputs": [],
   "source": [
    "# Seed movie for user 1\n",
    "seed_movie = \"Toy Story\"\n",
    "content_titles, content_scores = get_content_scores(seed_movie)\n",
    "\n",
    "content_df = content_titles.copy()\n",
    "content_df['content_score'] = content_scores\n",
    "content_df['content_score_scaled'] = content_df['content_score'] / max(content_scores) * 5\n",
    "content_df.rename(columns={'id': 'movieId'}, inplace=True)\n",
    "\n",
    "user_id = 1\n",
    "collab_preds = [svd_model.predict(user_id, movie_id).est for movie_id in content_df['movieId']]\n",
    "content_df['collab_score'] = collab_preds\n",
    "content_df['hybrid_score'] = (content_df['collab_score'] + content_df['content_score_scaled']) / 2\n",
    "\n",
    "top_10_hybrid = content_df.sort_values(by='hybrid_score', ascending=False).head(10)"
   ]
  },
  {
   "cell_type": "code",
   "execution_count": 28,
   "id": "b94671f2-85ab-49d8-b099-16569bfe3237",
   "metadata": {},
   "outputs": [
    {
     "data": {
      "image/png": "[encoded data removed]",
      "text/plain": [
       "<Figure size 800x500 with 1 Axes>"
      ]
     },
     "metadata": {},
     "output_type": "display_data"
    }
   ],
   "source": [
    "# Plot hybrid recommendations\n",
    "plt.figure(figsize=(8, 5))\n",
    "sns.barplot(\n",
    "    data=top_10_hybrid.sort_values(by=\"hybrid_score\", ascending=True),\n",
    "    x=\"hybrid_score\",\n",
    "    y=\"title\",\n",
    "    palette=\"plasma\"\n",
    ")\n",
    "plt.title(\"Hybrid Top 10 Recommendations for User 1\")\n",
    "plt.xlabel(\"Hybrid Score\")\n",
    "plt.ylabel(\"Movie Title\")\n",
    "plt.grid(axis='x', linestyle='--', alpha=0.6)\n",
    "plt.tight_layout()\n",
    "plt.show()\n",
    "\n"
   ]
  },
  {
   "cell_type": "code",
   "execution_count": 29,
   "id": "f8312906-d3fb-49f3-a652-79508abf2239",
   "metadata": {},
   "outputs": [
    {
     "data": {
      "text/html": [
       "<div>\n",
       "<style scoped>\n",
       "    .dataframe tbody tr th:only-of-type {\n",
       "        vertical-align: middle;\n",
       "    }\n",
       "\n",
       "    .dataframe tbody tr th {\n",
       "        vertical-align: top;\n",
       "    }\n",
       "\n",
       "    .dataframe thead th {\n",
       "        text-align: right;\n",
       "    }\n",
       "</style>\n",
       "<table border=\"1\" class=\"dataframe\">\n",
       "  <thead>\n",
       "    <tr style=\"text-align: right;\">\n",
       "      <th></th>\n",
       "      <th>movieId</th>\n",
       "      <th>title</th>\n",
       "      <th>collab_score</th>\n",
       "      <th>content_score_scaled</th>\n",
       "      <th>hybrid_score</th>\n",
       "    </tr>\n",
       "  </thead>\n",
       "  <tbody>\n",
       "    <tr>\n",
       "      <th>2164</th>\n",
       "      <td>6957</td>\n",
       "      <td>The 40 Year Old Virgin</td>\n",
       "      <td>3.989468</td>\n",
       "      <td>5.000000</td>\n",
       "      <td>4.494734</td>\n",
       "    </tr>\n",
       "    <tr>\n",
       "      <th>4438</th>\n",
       "      <td>110669</td>\n",
       "      <td>Wabash Avenue</td>\n",
       "      <td>4.484334</td>\n",
       "      <td>3.185176</td>\n",
       "      <td>3.834755</td>\n",
       "    </tr>\n",
       "    <tr>\n",
       "      <th>2229</th>\n",
       "      <td>116</td>\n",
       "      <td>Match Point</td>\n",
       "      <td>4.618302</td>\n",
       "      <td>1.876844</td>\n",
       "      <td>3.247573</td>\n",
       "    </tr>\n",
       "    <tr>\n",
       "      <th>791</th>\n",
       "      <td>1850</td>\n",
       "      <td>Man on the Moon</td>\n",
       "      <td>3.315987</td>\n",
       "      <td>2.689798</td>\n",
       "      <td>3.002892</td>\n",
       "    </tr>\n",
       "    <tr>\n",
       "      <th>121</th>\n",
       "      <td>2246</td>\n",
       "      <td>Malice</td>\n",
       "      <td>3.287964</td>\n",
       "      <td>2.464586</td>\n",
       "      <td>2.876275</td>\n",
       "    </tr>\n",
       "    <tr>\n",
       "      <th>575</th>\n",
       "      <td>4478</td>\n",
       "      <td>Indecent Proposal</td>\n",
       "      <td>3.629701</td>\n",
       "      <td>2.047183</td>\n",
       "      <td>2.838442</td>\n",
       "    </tr>\n",
       "    <tr>\n",
       "      <th>3801</th>\n",
       "      <td>27850</td>\n",
       "      <td>Halloweentown</td>\n",
       "      <td>4.287952</td>\n",
       "      <td>0.982039</td>\n",
       "      <td>2.634996</td>\n",
       "    </tr>\n",
       "    <tr>\n",
       "      <th>3521</th>\n",
       "      <td>84152</td>\n",
       "      <td>Dollman vs. Demonic Toys</td>\n",
       "      <td>3.997695</td>\n",
       "      <td>1.084932</td>\n",
       "      <td>2.541313</td>\n",
       "    </tr>\n",
       "    <tr>\n",
       "      <th>1335</th>\n",
       "      <td>7303</td>\n",
       "      <td>Maid in Manhattan</td>\n",
       "      <td>4.092308</td>\n",
       "      <td>0.978166</td>\n",
       "      <td>2.535237</td>\n",
       "    </tr>\n",
       "    <tr>\n",
       "      <th>3482</th>\n",
       "      <td>3160</td>\n",
       "      <td>Frankenstein Conquers the World</td>\n",
       "      <td>4.220224</td>\n",
       "      <td>0.834409</td>\n",
       "      <td>2.527316</td>\n",
       "    </tr>\n",
       "  </tbody>\n",
       "</table>\n",
       "</div>"
      ],
      "text/plain": [
       "      movieId                            title  collab_score  \\\n",
       "2164     6957           The 40 Year Old Virgin      3.989468   \n",
       "4438   110669                    Wabash Avenue      4.484334   \n",
       "2229      116                      Match Point      4.618302   \n",
       "791      1850                  Man on the Moon      3.315987   \n",
       "121      2246                           Malice      3.287964   \n",
       "575      4478                Indecent Proposal      3.629701   \n",
       "3801    27850                    Halloweentown      4.287952   \n",
       "3521    84152         Dollman vs. Demonic Toys      3.997695   \n",
       "1335     7303                Maid in Manhattan      4.092308   \n",
       "3482     3160  Frankenstein Conquers the World      4.220224   \n",
       "\n",
       "      content_score_scaled  hybrid_score  \n",
       "2164              5.000000      4.494734  \n",
       "4438              3.185176      3.834755  \n",
       "2229              1.876844      3.247573  \n",
       "791               2.689798      3.002892  \n",
       "121               2.464586      2.876275  \n",
       "575               2.047183      2.838442  \n",
       "3801              0.982039      2.634996  \n",
       "3521              1.084932      2.541313  \n",
       "1335              0.978166      2.535237  \n",
       "3482              0.834409      2.527316  "
      ]
     },
     "execution_count": 29,
     "metadata": {},
     "output_type": "execute_result"
    }
   ],
   "source": [
    "# Final hybrid score = average of collab and content scores\n",
    "content_df['hybrid_score'] = (content_df['collab_score'] + content_df['content_score_scaled']) / 2\n",
    "\n",
    "# Sort and display top 10\n",
    "top_10_hybrid = content_df.sort_values(by='hybrid_score', ascending=False).head(10)\n",
    "top_10_hybrid[['movieId', 'title', 'collab_score', 'content_score_scaled', 'hybrid_score']]\n"
   ]
  },
  {
   "cell_type": "code",
   "execution_count": 30,
   "id": "ee5ba848-ef1d-420d-9796-a7eda0d5f1de",
   "metadata": {},
   "outputs": [
    {
     "data": {
      "image/png": "[encoded data removed]",
      "text/plain": [
       "<Figure size 800x500 with 1 Axes>"
      ]
     },
     "metadata": {},
     "output_type": "display_data"
    }
   ],
   "source": [
    "plt.figure(figsize=(8, 5))\n",
    "sns.barplot(\n",
    "    data=top_10_hybrid.sort_values(by=\"hybrid_score\", ascending=True),\n",
    "    x=\"hybrid_score\",\n",
    "    y=\"title\",\n",
    "    palette=\"plasma\"\n",
    ")\n",
    "plt.title(\"Hybrid Top 10 Recommendations for User 1\")\n",
    "plt.xlabel(\"Hybrid Score\")\n",
    "plt.ylabel(\"Movie Title\")\n",
    "plt.grid(axis='x', linestyle='--', alpha=0.6)\n",
    "plt.tight_layout()\n",
    "plt.show()\n"
   ]
  },
  {
   "cell_type": "code",
   "execution_count": null,
   "id": "a3b14791-fbfa-4fc9-becc-cf855900074c",
   "metadata": {},
   "outputs": [],
   "source": []
  },
  {
   "cell_type": "code",
   "execution_count": null,
   "id": "d19a549f-6bb4-44dc-8d39-861a0da75824",
   "metadata": {},
   "outputs": [],
   "source": []
  },
  {
   "cell_type": "code",
   "execution_count": null,
   "id": "a6b4000f-0dbf-421b-ac2e-397532117bcc",
   "metadata": {},
   "outputs": [],
   "source": []
  },
  {
   "cell_type": "code",
   "execution_count": null,
   "id": "071aa653-3e3f-497a-9815-35d7fa829ccf",
   "metadata": {},
   "outputs": [],
   "source": []
  },
  {
   "cell_type": "code",
   "execution_count": null,
   "id": "479f3093-e063-43e8-ba0d-dfc3779be1b6",
   "metadata": {},
   "outputs": [],
   "source": []
  }
 ],
 "metadata": {
  "kernelspec": {
   "display_name": "Python (recsys-env)",
   "language": "python",
   "name": "recsys-env"
  },
  "language_info": {
   "codemirror_mode": {
    "name": "ipython",
    "version": 3
   },
   "file_extension": ".py",
   "mimetype": "text/x-python",
   "name": "python",
   "nbconvert_exporter": "python",
   "pygments_lexer": "ipython3",
   "version": "3.10.18"
  }
 },
 "nbformat": 4,
 "nbformat_minor": 5
}
